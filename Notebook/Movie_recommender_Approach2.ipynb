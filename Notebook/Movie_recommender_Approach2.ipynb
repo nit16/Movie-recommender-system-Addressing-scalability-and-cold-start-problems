{
 "cells": [
  {
   "cell_type": "markdown",
   "id": "1b496807",
   "metadata": {},
   "source": [
    "## Movie recommender system considering non linear dependency amongst user and item feature matrices"
   ]
  },
  {
   "cell_type": "markdown",
   "id": "b88cad60",
   "metadata": {},
   "source": [
    "### This one uses Approach 2 where we consider non linear equation and matrix facrorisaion is used to predict ratings and recommendations"
   ]
  },
  {
   "cell_type": "markdown",
   "id": "a519ab95",
   "metadata": {},
   "source": [
    "MSE = (R - X $\\theta$)^2\n",
    "\n",
    "MSE  = Mean square error\n",
    "\n",
    "R = Original Rating Matrix\n",
    "\n",
    "X = Movie Matrix\n",
    "\n",
    "Obective function ,\n",
    "\n",
    "$$\\min J(x,\\theta) = \\frac{1}{2}(X\\theta - R)^2 + \\frac{\\lambda}{2} \\theta^2 + \\frac{\\lambda}{2} x^2 $$\n",
    "\n",
    "Gradient X,\n",
    "\n",
    "$$\\nabla_{\\theta} = \\frac{\\partial J}{\\partial x} = (X\\theta - R)\\theta + X $$\n",
    "\n",
    "Gradient $ \\theta,$\n",
    "\n",
    "$$\\nabla_{\\theta} = \\frac{\\partial J}{\\partial \\theta} = (X\\theta - R)X + \\theta $$\n",
    "\n",
    "Update X,\n",
    "\n",
    "$$x_{k+1} = x_k - \\alpha \\nabla_{\\theta} $$\n",
    "\n",
    "Update $ \\theta,$\n",
    "\n",
    "$$\\theta_{k+1} = \\theta_k - \\alpha \\nabla_{\\theta} $$"
   ]
  },
  {
   "cell_type": "code",
   "execution_count": 1,
   "id": "69ccbba2",
   "metadata": {},
   "outputs": [],
   "source": [
    "import pandas as pd\n",
    "import numpy as np\n",
    "import matplotlib.pyplot as plt\n",
    "from sklearn.preprocessing import MinMaxScaler\n",
    "from sklearn.preprocessing import StandardScaler\n",
    "from sklearn.metrics import mean_squared_error\n",
    "from sklearn.metrics import r2_score\n",
    "from tqdm import tqdm"
   ]
  },
  {
   "cell_type": "code",
   "execution_count": 3,
   "id": "7c661c00",
   "metadata": {},
   "outputs": [],
   "source": [
    "# Importing the data\n",
    "movies = pd.read_csv(r\"C:\\Users\\nithu\\Documents\\Project\\Recommender\\ml-latest-small\\ml-latest-small\\movies.csv\")\n",
    "ratings = pd.read_csv(r\"C:\\Users\\nithu\\Documents\\Project\\Recommender\\ml-latest-small\\ml-latest-small\\ratings.csv\")"
   ]
  },
  {
   "cell_type": "code",
   "execution_count": 4,
   "id": "a1c412d9",
   "metadata": {},
   "outputs": [
    {
     "data": {
      "text/plain": [
       "100836"
      ]
     },
     "execution_count": 4,
     "metadata": {},
     "output_type": "execute_result"
    }
   ],
   "source": [
    "len(ratings)"
   ]
  },
  {
   "cell_type": "code",
   "execution_count": 5,
   "id": "2c617986",
   "metadata": {},
   "outputs": [
    {
     "data": {
      "text/html": [
       "<div>\n",
       "<style scoped>\n",
       "    .dataframe tbody tr th:only-of-type {\n",
       "        vertical-align: middle;\n",
       "    }\n",
       "\n",
       "    .dataframe tbody tr th {\n",
       "        vertical-align: top;\n",
       "    }\n",
       "\n",
       "    .dataframe thead th {\n",
       "        text-align: right;\n",
       "    }\n",
       "</style>\n",
       "<table border=\"1\" class=\"dataframe\">\n",
       "  <thead>\n",
       "    <tr style=\"text-align: right;\">\n",
       "      <th>userId</th>\n",
       "      <th>1</th>\n",
       "      <th>2</th>\n",
       "      <th>3</th>\n",
       "      <th>4</th>\n",
       "      <th>5</th>\n",
       "      <th>6</th>\n",
       "      <th>7</th>\n",
       "      <th>8</th>\n",
       "      <th>9</th>\n",
       "      <th>10</th>\n",
       "      <th>...</th>\n",
       "      <th>601</th>\n",
       "      <th>602</th>\n",
       "      <th>603</th>\n",
       "      <th>604</th>\n",
       "      <th>605</th>\n",
       "      <th>606</th>\n",
       "      <th>607</th>\n",
       "      <th>608</th>\n",
       "      <th>609</th>\n",
       "      <th>610</th>\n",
       "    </tr>\n",
       "    <tr>\n",
       "      <th>movieId</th>\n",
       "      <th></th>\n",
       "      <th></th>\n",
       "      <th></th>\n",
       "      <th></th>\n",
       "      <th></th>\n",
       "      <th></th>\n",
       "      <th></th>\n",
       "      <th></th>\n",
       "      <th></th>\n",
       "      <th></th>\n",
       "      <th></th>\n",
       "      <th></th>\n",
       "      <th></th>\n",
       "      <th></th>\n",
       "      <th></th>\n",
       "      <th></th>\n",
       "      <th></th>\n",
       "      <th></th>\n",
       "      <th></th>\n",
       "      <th></th>\n",
       "      <th></th>\n",
       "    </tr>\n",
       "  </thead>\n",
       "  <tbody>\n",
       "    <tr>\n",
       "      <th>1</th>\n",
       "      <td>4.0</td>\n",
       "      <td>NaN</td>\n",
       "      <td>NaN</td>\n",
       "      <td>NaN</td>\n",
       "      <td>4.0</td>\n",
       "      <td>NaN</td>\n",
       "      <td>4.5</td>\n",
       "      <td>NaN</td>\n",
       "      <td>NaN</td>\n",
       "      <td>NaN</td>\n",
       "      <td>...</td>\n",
       "      <td>4.0</td>\n",
       "      <td>NaN</td>\n",
       "      <td>4.0</td>\n",
       "      <td>3.0</td>\n",
       "      <td>4.0</td>\n",
       "      <td>2.5</td>\n",
       "      <td>4.0</td>\n",
       "      <td>2.5</td>\n",
       "      <td>3.0</td>\n",
       "      <td>5.0</td>\n",
       "    </tr>\n",
       "    <tr>\n",
       "      <th>2</th>\n",
       "      <td>NaN</td>\n",
       "      <td>NaN</td>\n",
       "      <td>NaN</td>\n",
       "      <td>NaN</td>\n",
       "      <td>NaN</td>\n",
       "      <td>4.0</td>\n",
       "      <td>NaN</td>\n",
       "      <td>4.0</td>\n",
       "      <td>NaN</td>\n",
       "      <td>NaN</td>\n",
       "      <td>...</td>\n",
       "      <td>NaN</td>\n",
       "      <td>4.0</td>\n",
       "      <td>NaN</td>\n",
       "      <td>5.0</td>\n",
       "      <td>3.5</td>\n",
       "      <td>NaN</td>\n",
       "      <td>NaN</td>\n",
       "      <td>2.0</td>\n",
       "      <td>NaN</td>\n",
       "      <td>NaN</td>\n",
       "    </tr>\n",
       "    <tr>\n",
       "      <th>3</th>\n",
       "      <td>4.0</td>\n",
       "      <td>NaN</td>\n",
       "      <td>NaN</td>\n",
       "      <td>NaN</td>\n",
       "      <td>NaN</td>\n",
       "      <td>5.0</td>\n",
       "      <td>NaN</td>\n",
       "      <td>NaN</td>\n",
       "      <td>NaN</td>\n",
       "      <td>NaN</td>\n",
       "      <td>...</td>\n",
       "      <td>NaN</td>\n",
       "      <td>NaN</td>\n",
       "      <td>NaN</td>\n",
       "      <td>NaN</td>\n",
       "      <td>NaN</td>\n",
       "      <td>NaN</td>\n",
       "      <td>NaN</td>\n",
       "      <td>2.0</td>\n",
       "      <td>NaN</td>\n",
       "      <td>NaN</td>\n",
       "    </tr>\n",
       "    <tr>\n",
       "      <th>4</th>\n",
       "      <td>NaN</td>\n",
       "      <td>NaN</td>\n",
       "      <td>NaN</td>\n",
       "      <td>NaN</td>\n",
       "      <td>NaN</td>\n",
       "      <td>3.0</td>\n",
       "      <td>NaN</td>\n",
       "      <td>NaN</td>\n",
       "      <td>NaN</td>\n",
       "      <td>NaN</td>\n",
       "      <td>...</td>\n",
       "      <td>NaN</td>\n",
       "      <td>NaN</td>\n",
       "      <td>NaN</td>\n",
       "      <td>NaN</td>\n",
       "      <td>NaN</td>\n",
       "      <td>NaN</td>\n",
       "      <td>NaN</td>\n",
       "      <td>NaN</td>\n",
       "      <td>NaN</td>\n",
       "      <td>NaN</td>\n",
       "    </tr>\n",
       "    <tr>\n",
       "      <th>5</th>\n",
       "      <td>NaN</td>\n",
       "      <td>NaN</td>\n",
       "      <td>NaN</td>\n",
       "      <td>NaN</td>\n",
       "      <td>NaN</td>\n",
       "      <td>5.0</td>\n",
       "      <td>NaN</td>\n",
       "      <td>NaN</td>\n",
       "      <td>NaN</td>\n",
       "      <td>NaN</td>\n",
       "      <td>...</td>\n",
       "      <td>NaN</td>\n",
       "      <td>NaN</td>\n",
       "      <td>NaN</td>\n",
       "      <td>3.0</td>\n",
       "      <td>NaN</td>\n",
       "      <td>NaN</td>\n",
       "      <td>NaN</td>\n",
       "      <td>NaN</td>\n",
       "      <td>NaN</td>\n",
       "      <td>NaN</td>\n",
       "    </tr>\n",
       "  </tbody>\n",
       "</table>\n",
       "<p>5 rows × 610 columns</p>\n",
       "</div>"
      ],
      "text/plain": [
       "userId   1    2    3    4    5    6    7    8    9    10   ...  601  602  603  \\\n",
       "movieId                                                    ...                  \n",
       "1        4.0  NaN  NaN  NaN  4.0  NaN  4.5  NaN  NaN  NaN  ...  4.0  NaN  4.0   \n",
       "2        NaN  NaN  NaN  NaN  NaN  4.0  NaN  4.0  NaN  NaN  ...  NaN  4.0  NaN   \n",
       "3        4.0  NaN  NaN  NaN  NaN  5.0  NaN  NaN  NaN  NaN  ...  NaN  NaN  NaN   \n",
       "4        NaN  NaN  NaN  NaN  NaN  3.0  NaN  NaN  NaN  NaN  ...  NaN  NaN  NaN   \n",
       "5        NaN  NaN  NaN  NaN  NaN  5.0  NaN  NaN  NaN  NaN  ...  NaN  NaN  NaN   \n",
       "\n",
       "userId   604  605  606  607  608  609  610  \n",
       "movieId                                     \n",
       "1        3.0  4.0  2.5  4.0  2.5  3.0  5.0  \n",
       "2        5.0  3.5  NaN  NaN  2.0  NaN  NaN  \n",
       "3        NaN  NaN  NaN  NaN  2.0  NaN  NaN  \n",
       "4        NaN  NaN  NaN  NaN  NaN  NaN  NaN  \n",
       "5        3.0  NaN  NaN  NaN  NaN  NaN  NaN  \n",
       "\n",
       "[5 rows x 610 columns]"
      ]
     },
     "execution_count": 5,
     "metadata": {},
     "output_type": "execute_result"
    }
   ],
   "source": [
    "# Splittin the data and hiding the data by inserting nan values and reinserting it into original data\n",
    "# This data will then be used later to check accuracy against predicted ratings\n",
    "from sklearn.model_selection import train_test_split\n",
    "X_ratings,Y_ratings = train_test_split(ratings,test_size=0.1, random_state=42)\n",
    "\n",
    "new = Y_ratings.copy()\n",
    "new['rating'] = np.nan\n",
    "\n",
    "train_ratings = pd.concat([X_ratings, new], ignore_index=True, axis=0)\n",
    "\n",
    "train_ratings=ratings.drop(['timestamp'], axis=1)\n",
    "# Pivoting the table\n",
    "MovieUserMatrix = train_ratings.pivot_table(index='movieId',columns='userId',values='rating')\n",
    "MovieUserMatrix.head()"
   ]
  },
  {
   "cell_type": "code",
   "execution_count": 6,
   "id": "5c1faa03",
   "metadata": {},
   "outputs": [],
   "source": [
    "# Creating a binary matrix and intiating initial matrix with nan value with -1 rating\n",
    "MovieUserMatrix_Y=MovieUserMatrix.fillna(-1)\n",
    "MovieUserMatrix_R=MovieUserMatrix.copy()\n",
    "MovieUserMatrix_R=MovieUserMatrix_R.where(~MovieUserMatrix_R.notna(), 1)\n",
    "MovieUserMatrix_R=MovieUserMatrix_R.fillna(0)"
   ]
  },
  {
   "cell_type": "code",
   "execution_count": 7,
   "id": "573c1769",
   "metadata": {},
   "outputs": [],
   "source": [
    "Y=MovieUserMatrix_Y.values\n",
    "R=MovieUserMatrix_R.values"
   ]
  },
  {
   "cell_type": "code",
   "execution_count": 8,
   "id": "cde931b1",
   "metadata": {},
   "outputs": [],
   "source": [
    "def  CostFunc(p,q, Y, R, num_users, num_movies, num_features, Lambda):\n",
    "\n",
    "    X = p\n",
    "    Theta = q\n",
    "    \n",
    "    predictions =  np.dot(X,Theta.T)\n",
    "    err = (predictions - Y)\n",
    "    J = 1/2 * np.sum((err**2) * R)# multiplying by R will consider only those values for which value of (i,j)=r(i,j)=1\n",
    "    \n",
    "    #compute regularized cost function\n",
    "    reg_X =  Lambda/2 * np.sum(X**2)\n",
    "    reg_Theta = Lambda/2 *np.sum(Theta**2)\n",
    "    reg_J = J + reg_X + reg_Theta\n",
    "    \n",
    "    # Compute gradient\n",
    "    X_grad = np.dot(err*R,Theta)\n",
    "    Theta_grad = np.dot((err*R).T,X)\n",
    "    \n",
    "    # Compute regularized gradient\n",
    "    reg_X_grad = X_grad + Lambda*X\n",
    "    reg_Theta_grad = Theta_grad + Lambda*Theta\n",
    "    \n",
    "    return reg_J, reg_X_grad, reg_Theta_grad"
   ]
  },
  {
   "cell_type": "code",
   "execution_count": 9,
   "id": "fa2324b8",
   "metadata": {},
   "outputs": [],
   "source": [
    "def gradientDescent(p,q,Y,R,num_users,num_movies,num_features,alpha,num_iters,Lambda):\n",
    " \n",
    "    J_history =[]\n",
    "    # calling cost function over each iteration and then using the gradient value to update/obtain next value for \n",
    "    # p and q and obtain the minimum value for the cost function\n",
    "    for i in range(num_iters):\n",
    "        cost, reg_X_grad, reg_Theta_grad = CostFunc(p,q, Y, R, num_users, num_movies, num_features, Lambda)\n",
    "        \n",
    "        p = p - (alpha * reg_X_grad)\n",
    "        q = q - (alpha * reg_Theta_grad)\n",
    "        J_history.append(cost)\n",
    "\n",
    "    return p, q ,J_history"
   ]
  },
  {
   "cell_type": "markdown",
   "id": "85036729",
   "metadata": {},
   "source": [
    "### HyperParameter Tuning"
   ]
  },
  {
   "cell_type": "code",
   "execution_count": 10,
   "id": "98b8d240",
   "metadata": {},
   "outputs": [
    {
     "data": {
      "text/plain": [
       "[<matplotlib.lines.Line2D at 0x235d19d7ac0>]"
      ]
     },
     "execution_count": 10,
     "metadata": {},
     "output_type": "execute_result"
    },
    {
     "data": {
      "image/png": "[encoded data removed]",
      "text/plain": [
       "<Figure size 432x288 with 1 Axes>"
      ]
     },
     "metadata": {
      "needs_background": "light"
     },
     "output_type": "display_data"
    }
   ],
   "source": [
    "# Taking SVD of the rating matrix and checking the scree plot of it\n",
    "U,S,VT = np.linalg.svd(Y)\n",
    "plt.xlabel(\"n components\")\n",
    "plt.ylabel('Eigen Value')\n",
    "plt.title(\"components vs Eigen Value\")\n",
    "plt.plot(S)"
   ]
  },
  {
   "cell_type": "code",
   "execution_count": 11,
   "id": "3cd16212",
   "metadata": {},
   "outputs": [],
   "source": [
    "# Taking first 10 components of the SVD as it would be sufficient as per the graph for approximate \n",
    "# reconstriction of the whole matrix\n",
    "u = U[:,:10]\n",
    "s = S[:10]\n",
    "v = VT[:10,:]"
   ]
  },
  {
   "cell_type": "code",
   "execution_count": 12,
   "id": "8377510c",
   "metadata": {},
   "outputs": [
    {
     "data": {
      "text/plain": [
       "array([0.53279474, 0.11042775, 0.06752331, 0.05206761, 0.04503522,\n",
       "       0.04233867, 0.0400133 , 0.03901933, 0.03589998, 0.03488009])"
      ]
     },
     "execution_count": 12,
     "metadata": {},
     "output_type": "execute_result"
    }
   ],
   "source": [
    "# Taking percentage of the Singular values\n",
    "s1 = s/np.sum(s)\n",
    "s1"
   ]
  },
  {
   "cell_type": "code",
   "execution_count": 13,
   "id": "9428771b",
   "metadata": {},
   "outputs": [
    {
     "name": "stderr",
     "output_type": "stream",
     "text": [
      "100%|███████████████████████████████████████████████████████████████████████████████████| 4/4 [10:06<00:00, 151.69s/it]\n"
     ]
    }
   ],
   "source": [
    "from sklearn.preprocessing import MinMaxScaler\n",
    "# Different lambda values to check the accuracy of the model for later usage\n",
    "Lambda = [0.6,0.9,1.2,1.4]\n",
    "cost = []\n",
    "rmse = []\n",
    "r2 = []\n",
    "\n",
    "num_users = Y.shape[1]\n",
    "num_movies = Y.shape[0]\n",
    "num_features = 10\n",
    "\n",
    "# Calculating the MSE(Mean Square Error) and R2 score for different values of lambda\n",
    "for i in tqdm(Lambda):\n",
    "    p = u\n",
    "    q = np.dot(np.diag(s1),v).T\n",
    "\n",
    "    \n",
    "    X, Theta, J_history = gradientDescent(p,q,Y,R,num_users,num_movies,num_features,0.001,1000,i)\n",
    "    cost.append(J_history)\n",
    "    \n",
    "    final = np.dot(X,Theta.T)\n",
    "    \n",
    "    #scaling the values obtained from 1 to 5\n",
    "    scaler1 = MinMaxScaler(feature_range=(1, 5))\n",
    "    final_norm = scaler1.fit_transform(final)\n",
    "    \n",
    "    FinalratingM = pd.DataFrame(final_norm, index=MovieUserMatrix.index, columns=MovieUserMatrix.columns)\n",
    "    \n",
    "    userId = Y_ratings['userId']\n",
    "    movieId = Y_ratings['movieId']\n",
    "    y_true = Y_ratings['rating']\n",
    "    y_pred = []\n",
    "    for i,j in zip(movieId,userId):\n",
    "        y_pred.append(FinalratingM.loc[i,j])\n",
    "    rmse.append(mean_squared_error(y_true,y_pred))"
   ]
  },
  {
   "cell_type": "code",
   "execution_count": 15,
   "id": "c5ebe36f",
   "metadata": {},
   "outputs": [
    {
     "data": {
      "image/png": "[encoded data removed]",
      "text/plain": [
       "<Figure size 432x288 with 1 Axes>"
      ]
     },
     "metadata": {
      "needs_background": "light"
     },
     "output_type": "display_data"
    }
   ],
   "source": [
    "plt.plot(Lambda,rmse,marker = 'o')\n",
    "plt.xlabel(\"Lambda values\")\n",
    "plt.ylabel(\"rmse\")\n",
    "plt.title(\"Lambda vs Rmse\")\n",
    "plt.show()"
   ]
  },
  {
   "cell_type": "markdown",
   "id": "eb7a7006",
   "metadata": {},
   "source": [
    "## Final Training"
   ]
  },
  {
   "cell_type": "code",
   "execution_count": 16,
   "id": "c83446e5",
   "metadata": {},
   "outputs": [],
   "source": [
    "U,S,VT = np.linalg.svd(Y)\n",
    "u = U[:,:10]\n",
    "s = S[:10]\n",
    "v = VT[:10,:]\n",
    "\n",
    "s1 = s/np.sum(s)\n",
    "s1\n",
    "\n",
    "p = u\n",
    "q = np.dot(np.diag(s1),v).T"
   ]
  },
  {
   "cell_type": "code",
   "execution_count": 17,
   "id": "b8737c26",
   "metadata": {},
   "outputs": [
    {
     "data": {
      "text/plain": [
       "(9724, 10)"
      ]
     },
     "execution_count": 17,
     "metadata": {},
     "output_type": "execute_result"
    }
   ],
   "source": [
    "p.shape"
   ]
  },
  {
   "cell_type": "code",
   "execution_count": 18,
   "id": "7781ac2d",
   "metadata": {},
   "outputs": [
    {
     "data": {
      "text/plain": [
       "(610, 10)"
      ]
     },
     "execution_count": 18,
     "metadata": {},
     "output_type": "execute_result"
    }
   ],
   "source": [
    "q.shape"
   ]
  },
  {
   "cell_type": "code",
   "execution_count": 19,
   "id": "a18c5ece",
   "metadata": {},
   "outputs": [
    {
     "data": {
      "image/png": "[encoded data removed]",
      "text/plain": [
       "<Figure size 432x288 with 1 Axes>"
      ]
     },
     "metadata": {
      "needs_background": "light"
     },
     "output_type": "display_data"
    }
   ],
   "source": [
    "# Lambda is taken as 0.9 as that gives us the best result\n",
    "Lambda = 0.9\n",
    "\n",
    "num_users = Y.shape[1]\n",
    "num_movies = Y.shape[0]\n",
    "num_features = 10\n",
    "# alpha as 0.001 and iteration as 1000\n",
    "X,Theta, J_history = gradientDescent(p,q,Y,R,num_users,num_movies,num_features,0.001,1000,Lambda)\n",
    "\n",
    "plt.plot(J_history)\n",
    "plt.xlabel(\"Iteration\")\n",
    "plt.ylabel(\"Cost\")\n",
    "plt.title(\"Cost function using Gradient Descent\")\n",
    "plt.show()"
   ]
  },
  {
   "cell_type": "code",
   "execution_count": 20,
   "id": "9952bf33",
   "metadata": {},
   "outputs": [],
   "source": [
    "final = np.dot(X,Theta.T)\n",
    "\n",
    "scaler1 = MinMaxScaler(feature_range=(1, 5))\n",
    "final_norm = scaler1.fit_transform(final)\n",
    "#Final ratings converted into datafrane\n",
    "FinalratingM = pd.DataFrame(final_norm, index=MovieUserMatrix.index, columns=MovieUserMatrix.columns)\n",
    "    \n",
    "userId = Y_ratings['userId']\n",
    "movieId = Y_ratings['movieId']\n",
    "y_true = Y_ratings['rating']\n",
    "y_pred = []\n",
    "#Adding the predicted values separately\n",
    "for i,j in zip(movieId,userId):\n",
    "    y_pred.append(FinalratingM.loc[i,j])"
   ]
  },
  {
   "cell_type": "code",
   "execution_count": 23,
   "id": "4e1f5cb5",
   "metadata": {},
   "outputs": [
    {
     "name": "stdout",
     "output_type": "stream",
     "text": [
      "RMSE Score:  0.679767360747662\n"
     ]
    }
   ],
   "source": [
    "# Checking the accuracy\n",
    "from sklearn.metrics import mean_squared_error\n",
    "print('RMSE Score: ',mean_squared_error(y_true,y_pred))"
   ]
  },
  {
   "cell_type": "markdown",
   "id": "8bd8636f",
   "metadata": {},
   "source": [
    "## Predicting top 10 movies for a user"
   ]
  },
  {
   "cell_type": "code",
   "execution_count": 22,
   "id": "f88839da",
   "metadata": {},
   "outputs": [
    {
     "name": "stdout",
     "output_type": "stream",
     "text": [
      "Top 10 Movies that are recommended to User 105 :\n",
      "1596          Watership Down (1978)\n",
      "1703       Stardust Memories (1980)\n",
      "4140          Antwone Fisher (2002)\n",
      "4150                 My Girl (1991)\n",
      "5072       Bridge Too Far, A (1977)\n",
      "5664    Battlestar Galactica (2003)\n",
      "6038        Weather Man, The (2005)\n",
      "6401         Hannibal Rising (2007)\n",
      "6487                    Once (2006)\n",
      "7091           Julie & Julia (2009)\n",
      "Name: title, dtype: object\n"
     ]
    }
   ],
   "source": [
    "# Specifying the id of the user and no of movies to recommend\n",
    "user = 105\n",
    "no_of_movies = 10\n",
    "\n",
    "#Obtain the ratings and binary values of the inital matrix using user ID\n",
    "ratings = FinalratingM.loc[:,user]\n",
    "binary = MovieUserMatrix_R.loc[:,user]\n",
    "\n",
    "movieid = pd.Series(MovieUserMatrix.index)   #To store the all the movie ID\n",
    "\n",
    "df = pd.concat([ratings,binary], axis=1)\n",
    "df.reset_index(inplace = True)\n",
    "df.columns = ['movieId','ratings', 'binary']\n",
    "\n",
    "# Sorting the dataframe in decending order i.e. highest rated movies first\n",
    "final_df = df.sort_values(by=['ratings'], ascending=False)\n",
    "\n",
    "n = 0\n",
    "List = []\n",
    "# Looping through the whole dataframe and checking binary data and only those \n",
    "# which was never rated by the user is recommended to the user\n",
    "for i in range(len(final_df)):\n",
    "    if (final_df['binary'].iloc[i] == 0):\n",
    "        List.append(final_df['movieId'].iloc[i])\n",
    "        n = n+1\n",
    "    if n == no_of_movies:\n",
    "        #stop/ exit the loop when the count reaches number of movies needed to be recommended is reached\n",
    "        break\n",
    "\n",
    "# Sorting the list of movies as obtained above for recommendation\n",
    "a=movies.loc[movies['movieId'].isin(List)]['title']\n",
    "print(\"Top 10 Movies that are recommended to User\", user,\":\")\n",
    "print(a)"
   ]
  }
 ],
 "metadata": {
  "kernelspec": {
   "display_name": "Python 3 (ipykernel)",
   "language": "python",
   "name": "python3"
  },
  "language_info": {
   "codemirror_mode": {
    "name": "ipython",
    "version": 3
   },
   "file_extension": ".py",
   "mimetype": "text/x-python",
   "name": "python",
   "nbconvert_exporter": "python",
   "pygments_lexer": "ipython3",
   "version": "3.9.12"
  }
 },
 "nbformat": 4,
 "nbformat_minor": 5
}
